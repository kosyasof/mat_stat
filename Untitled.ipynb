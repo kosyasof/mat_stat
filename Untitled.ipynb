{
 "cells": [
  {
   "cell_type": "code",
   "execution_count": 1,
   "id": "f643c458",
   "metadata": {},
   "outputs": [],
   "source": [
    "from sympy import *"
   ]
  },
  {
   "cell_type": "code",
   "execution_count": 2,
   "id": "285c7e74",
   "metadata": {},
   "outputs": [],
   "source": [
    "x, x1, x2, x3, x4 = symbols('x, x1, x2, x3, x4')"
   ]
  },
  {
   "cell_type": "code",
   "execution_count": 10,
   "id": "e345ec32",
   "metadata": {},
   "outputs": [
    {
     "data": {
      "text/latex": [
       "$\\displaystyle \\left(x_{1} + 1\\right)^{0.5}$"
      ],
      "text/plain": [
       "(x1 + 1)**0.5"
      ]
     },
     "execution_count": 10,
     "metadata": {},
     "output_type": "execute_result"
    }
   ],
   "source": [
    "expand((x1 + 1)**(0.5))"
   ]
  },
  {
   "cell_type": "code",
   "execution_count": 12,
   "id": "6587e3c1",
   "metadata": {},
   "outputs": [
    {
     "data": {
      "text/latex": [
       "$\\displaystyle 0.666666666666667 x^{1.5}$"
      ],
      "text/plain": [
       "0.666666666666667*x**1.5"
      ]
     },
     "execution_count": 12,
     "metadata": {},
     "output_type": "execute_result"
    }
   ],
   "source": [
    "integrate(x**(1/2))"
   ]
  },
  {
   "cell_type": "code",
   "execution_count": 13,
   "id": "a6157a6c",
   "metadata": {},
   "outputs": [
    {
     "data": {
      "text/plain": [
       "0.6666666666666666"
      ]
     },
     "execution_count": 13,
     "metadata": {},
     "output_type": "execute_result"
    }
   ],
   "source": [
    "1/1.5"
   ]
  },
  {
   "cell_type": "code",
   "execution_count": 14,
   "id": "90d20d2d",
   "metadata": {},
   "outputs": [
    {
     "data": {
      "text/plain": [
       "0.6666666666666666"
      ]
     },
     "execution_count": 14,
     "metadata": {},
     "output_type": "execute_result"
    }
   ],
   "source": [
    "10/15"
   ]
  },
  {
   "cell_type": "code",
   "execution_count": 4,
   "id": "150557bc",
   "metadata": {},
   "outputs": [
    {
     "data": {
      "text/latex": [
       "$\\displaystyle \\frac{2}{x_{1} + x_{2} + x_{3}}$"
      ],
      "text/plain": [
       "2/(x1 + x2 + x3)"
      ]
     },
     "execution_count": 4,
     "metadata": {},
     "output_type": "execute_result"
    }
   ],
   "source": [
    "expand(2/(x1+x2+x3))"
   ]
  },
  {
   "cell_type": "code",
   "execution_count": 8,
   "id": "9fb1daa8",
   "metadata": {},
   "outputs": [
    {
     "data": {
      "text/plain": [
       "0.01818181818181818"
      ]
     },
     "execution_count": 8,
     "metadata": {},
     "output_type": "execute_result"
    }
   ],
   "source": [
    "1/sum(range(0,11))"
   ]
  },
  {
   "cell_type": "code",
   "execution_count": 7,
   "id": "2af59f43",
   "metadata": {},
   "outputs": [
    {
     "data": {
      "text/plain": [
       "3"
      ]
     },
     "execution_count": 7,
     "metadata": {},
     "output_type": "execute_result"
    }
   ],
   "source": [
    "sum(range(0,3))"
   ]
  },
  {
   "cell_type": "code",
   "execution_count": null,
   "id": "bd9193b9",
   "metadata": {},
   "outputs": [],
   "source": []
  }
 ],
 "metadata": {
  "kernelspec": {
   "display_name": "Python 3 (ipykernel)",
   "language": "python",
   "name": "python3"
  },
  "language_info": {
   "codemirror_mode": {
    "name": "ipython",
    "version": 3
   },
   "file_extension": ".py",
   "mimetype": "text/x-python",
   "name": "python",
   "nbconvert_exporter": "python",
   "pygments_lexer": "ipython3",
   "version": "3.9.12"
  }
 },
 "nbformat": 4,
 "nbformat_minor": 5
}
