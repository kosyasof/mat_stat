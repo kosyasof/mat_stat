{
 "cells": [
  {
   "cell_type": "code",
   "execution_count": 1,
   "id": "00c21ea8",
   "metadata": {},
   "outputs": [],
   "source": [
    "import numpy as np\n",
    "from scipy.stats import binom, uniform, poisson"
   ]
  },
  {
   "cell_type": "markdown",
   "id": "84905612",
   "metadata": {},
   "source": [
    "бросок нессиметричных монет"
   ]
  },
  {
   "cell_type": "code",
   "execution_count": 14,
   "id": "8b592cb8",
   "metadata": {},
   "outputs": [],
   "source": [
    "def f1(p, q, n):\n",
    "    fst = binom(n, p)\n",
    "    E_XI = p**2 * n\n",
    "    Var_XI = E_XI * p * q\n",
    "    print(f'мат ожидание равно:  {E_XI}')\n",
    "    print(\"E(2го броска | 1го броска):\", fst.mean() * p)\n",
    "    print(\"D(E(2го броска | 1го броска)):\", fst.var() * p**2)\n",
    "    print(\"E(D(2го броска | 1го броска)):\", fst.mean() * p * q)"
   ]
  },
  {
   "cell_type": "markdown",
   "id": "f39cecbd",
   "metadata": {},
   "source": [
    "пожар"
   ]
  },
  {
   "cell_type": "code",
   "execution_count": 16,
   "id": "d7edccb1",
   "metadata": {},
   "outputs": [],
   "source": [
    "# X - ущерб от пожара, Y - число пожаров в год\n",
    "def f4(EX, EY):\n",
    "    VarY = EY\n",
    "    VarX = EX**2\n",
    "    ES = EX * EY\n",
    "    VarS = VarX * EY + VarX * VarY\n",
    "    return ES, VarS**(0.5)"
   ]
  },
  {
   "cell_type": "markdown",
   "id": "9356dc8d",
   "metadata": {},
   "source": [
    "страхование"
   ]
  },
  {
   "cell_type": "code",
   "execution_count": 17,
   "id": "37190f98",
   "metadata": {},
   "outputs": [],
   "source": [
    "def f5(minu, maxu, EY):\n",
    "    EX = (maxu + minu)/2\n",
    "    VarX = (maxu - minu)**2/12\n",
    "    VarY = EY\n",
    "    ES = EX * EY\n",
    "    VarS = EX**2 * EY + VarX * VarY\n",
    "    return ES, VarS**(0.5)"
   ]
  },
  {
   "cell_type": "markdown",
   "id": "2dce01d8",
   "metadata": {},
   "source": [
    "цена"
   ]
  },
  {
   "cell_type": "code",
   "execution_count": 18,
   "id": "61163296",
   "metadata": {},
   "outputs": [],
   "source": [
    "def f6(y1, y2, p1, p2, a, b):\n",
    "    EY = y1*p1 + y2*p2\n",
    "    EX = (a + b*y1)/2 * p1 + (a+b*y2)/2 * p2\n",
    "    print(EX)\n",
    "    EXY = y1*(a + b*y1)/2 * p1 + y2*(a+b*y2)/2 * p2\n",
    "    Cov = EXY - EX*EY\n",
    "    return EXY, Cov"
   ]
  },
  {
   "cell_type": "markdown",
   "id": "f733f7d9",
   "metadata": {},
   "source": [
    "игральная кость"
   ]
  },
  {
   "cell_type": "code",
   "execution_count": 19,
   "id": "57e66659",
   "metadata": {},
   "outputs": [],
   "source": [
    "def igr_kost(n, k):\n",
    "    p8o = binom(n, 0.5).pmf(k)\n",
    "    geom_var = (1-p8o)/(p8o**2)\n",
    "    geom_mean = 1/p8o\n",
    "    km = uniform(1, 5).mean()\n",
    "    kv = ((1**2 + 2**2 + 3**2 + 4**2 + 5**2 + 6**2) / 6 ) - km**2\n",
    "\n",
    "    print(\"E(S):\", 1/p8o * km)\n",
    "    print(\"Sigma(S):\", ((km**2)*geom_var + kv*geom_mean)**0.5)"
   ]
  },
  {
   "cell_type": "code",
   "execution_count": 21,
   "id": "398410ee",
   "metadata": {},
   "outputs": [],
   "source": [
    "import numpy as np\n",
    "from sympy import *\n",
    "from scipy.stats import *"
   ]
  },
  {
   "cell_type": "markdown",
   "id": "2053a856",
   "metadata": {},
   "source": [
    "оценки"
   ]
  },
  {
   "cell_type": "code",
   "execution_count": 22,
   "id": "87816745",
   "metadata": {},
   "outputs": [],
   "source": [
    "def f1(marks):\n",
    "    A = [i for i in marks if i > 0]\n",
    "    M = np.median(A)\n",
    "    H = len([i for i in A if i >= M])/sum(1/i for i in A if i >= M)\n",
    "    G = gmean([i for i in A if i >= M])\n",
    "    Q = np.median([i for i in A if i >= M])\n",
    "    N = len([i for i in marks if Q<=i<=H])\n",
    "    print(f'средняя положительная оценка: {np.mean(A)}', f'M - медиана полож. оценок: {M}', f'H - среднее гармоническое: {H}',\n",
    "          f'G - среднее геометрическое: {G}', f'Q-медианная оценка, где студенты набрали нее менее М: {Q}', \n",
    "          f'N - количество студентов (оценки между H и Q): {N}', sep='\\n')"
   ]
  },
  {
   "cell_type": "markdown",
   "id": "d982989b",
   "metadata": {},
   "source": [
    "эмпирическая ФР"
   ]
  },
  {
   "cell_type": "code",
   "execution_count": 23,
   "id": "ac5d6615",
   "metadata": {},
   "outputs": [],
   "source": [
    "import statsmodels.api as sm \n",
    "def f2(abc):\n",
    "    abc = np.array(abc)\n",
    "    mu = np.mean(abc)\n",
    "    sigma = abc.std()\n",
    "    X = norm(mu, sigma)\n",
    "    L = X.ppf(0.25)\n",
    "    H = X.ppf(0.75)\n",
    "    kol = len([i for i in abc if L<i<H])\n",
    "    ecdf = sm.distributions.ECDF(ABC)\n",
    "    d_max = 0\n",
    "    for x in ABC:\n",
    "        d = abs(ecdf(x) - X.cdf(x))\n",
    "        if d > d_max:\n",
    "            d_max = d\n",
    "    print(f'ср. арифметическое: {mu}', f'эмп. ст. отклонение: {sigma}', f'квартили L: {L}', f'H: {H}',\n",
    "        f'количество ПД, попавших в интервал от L до H: {kol}', f'максимальное расстояние между функциями: {d_max}', sep='\\n')"
   ]
  },
  {
   "cell_type": "markdown",
   "id": "98d92368",
   "metadata": {},
   "source": [
    "студенты x1y1"
   ]
  },
  {
   "cell_type": "code",
   "execution_count": 24,
   "id": "72e7293e",
   "metadata": {},
   "outputs": [],
   "source": [
    "def f3(xy):\n",
    "    xy = xy.replace('\\n', '').split(',')\n",
    "    lst = []\n",
    "    lx, ly = [], []\n",
    "    for i in range(len(xy)):\n",
    "        lst.append(int(xy[i].split('=')[1].strip()))\n",
    "    for j in range(0,len(lst),2):\n",
    "        if lst[j] >= 50 and lst[j+1] >= 50:\n",
    "            lx.append(lst[j])\n",
    "            ly.append(lst[j+1])\n",
    "    print(f'cov: {np.cov(np.array(lx), np.array(ly), bias=True)[0][1]}', \n",
    "          f'corr: {np.corrcoef(np.array(lx), np.array(ly))[0][1]}', sep='\\n')"
   ]
  },
  {
   "cell_type": "markdown",
   "id": "8f8c9ed8",
   "metadata": {},
   "source": [
    "поток состоит из"
   ]
  },
  {
   "cell_type": "code",
   "execution_count": 25,
   "id": "591ddf37",
   "metadata": {},
   "outputs": [],
   "source": [
    "def f4(n1, n2, n3, x1s, x2s, x3s, sgm1, sgm2, sgm3):\n",
    "    Xs = (n1*x1s + n2*x2s + n3*x3s)/(n1+n2+n3)\n",
    "    sigma_m = 1/(n1+n2+n3) * (n1*(x1s - Xs)**2 + n2*(x2s - Xs)**2 + n3*(x3s - Xs)**2)\n",
    "    sigma_v = (n1*sgm1**2 + n2*sgm2**2 + n3*sgm3**2)/(n1+n2+n3)\n",
    "    sigma = (sigma_m + sigma_v)\n",
    "    stdot = sigma**(0.5)\n",
    "    return Xs, stdot"
   ]
  },
  {
   "cell_type": "markdown",
   "id": "46559947",
   "metadata": {},
   "source": [
    "в группе учатся"
   ]
  },
  {
   "cell_type": "code",
   "execution_count": 26,
   "id": "fbc5c577",
   "metadata": {},
   "outputs": [],
   "source": [
    "# моменты\n",
    "def f5(marks, n):\n",
    "    return np.var(marks)/n, moment(marks, 3)/n**2"
   ]
  },
  {
   "cell_type": "code",
   "execution_count": 27,
   "id": "17818133",
   "metadata": {},
   "outputs": [],
   "source": [
    "# среднее\n",
    "def f6(marks,N, n):\n",
    "    return np.mean(marks), np.var(marks)/n * (N - n )/(N - 1)"
   ]
  },
  {
   "cell_type": "markdown",
   "id": "af52afff",
   "metadata": {},
   "source": [
    "распределение баллов на экзамене"
   ]
  },
  {
   "cell_type": "code",
   "execution_count": 28,
   "id": "46b63015",
   "metadata": {},
   "outputs": [],
   "source": [
    "def f7(N,pr, n1, n2, n3, n4): \n",
    "    n = N/pr\n",
    "    lst = np.array([2]*n1 + [3]*n2 + [4]*n3 + [5]*n4)\n",
    "    m = np.mean(lst)\n",
    "    v = np.var(lst)/n * (N-n)/(N-1)\n",
    "    return m, v**(.5)"
   ]
  },
  {
   "cell_type": "markdown",
   "id": "1d680399",
   "metadata": {},
   "source": [
    "две игральные кости"
   ]
  },
  {
   "cell_type": "code",
   "execution_count": 29,
   "id": "72b08c7b",
   "metadata": {},
   "outputs": [],
   "source": [
    "def f8(N,n):\n",
    "    EX = 11*1/6*sum(range(1,7)) + (-9)*1/6*sum(range(1,7))\n",
    "    Varx = (1/6*sum(list(i**2 for i in range(1,7))) - (1/6*(sum(range(1,7))))**2) \n",
    "    VarX = (N-n)/(N-1)/n * (11**2 * Varx + 9**2 *Varx)\n",
    "    return EX, VarX**(.5)"
   ]
  },
  {
   "cell_type": "markdown",
   "id": "ae857b7f",
   "metadata": {},
   "source": [
    "монеты"
   ]
  },
  {
   "cell_type": "code",
   "execution_count": 30,
   "id": "1dd692c2",
   "metadata": {},
   "outputs": [],
   "source": [
    "def f9(coins,n):\n",
    "    EX = coins * 0.5 \n",
    "    Varx = 1/2 - (1/2)**2\n",
    "    VarX = coins *Varx * (1/n) * (2**coins - n)/(2**coins - 1)\n",
    "    return EX, VarX"
   ]
  },
  {
   "cell_type": "markdown",
   "id": "725ceb73",
   "metadata": {},
   "source": [
    "эмпирическое распределение признаков"
   ]
  },
  {
   "cell_type": "code",
   "execution_count": 31,
   "id": "bd710f4f",
   "metadata": {},
   "outputs": [],
   "source": [
    "def f11(arr: list, x: list, y: list, n: int, N: int):\n",
    "    X = np.array([x, [sum(arr[0]), sum(arr[1])]])\n",
    "    Y = np.array([y, [sum(arr[:, 0]), sum(arr[:, 1]), sum(arr[:, 2])]])\n",
    "    \n",
    "    X_d = rv_discrete(values=(X[0], X[1]))\n",
    "    Y_d = rv_discrete(values=(Y[0], Y[1]))\n",
    "    \n",
    "    EX = X_d.mean()\n",
    "    Var_X = X_d.var()/n * (N - n)/(N - 1)\n",
    "    \n",
    "    EY = Y_d.mean()\n",
    "    Var_Y = Y_d.var()/n * (N - n)/(N - 1)\n",
    "    \n",
    "    EXY = 0\n",
    "    for i in range(len(x)):\n",
    "        for j in range(len(y)):\n",
    "            EXY += x[i] * y[j] * arr[i, j]\n",
    "    CovXY = (EXY - EX*EY)/n * (N - n)/(N - 1)\n",
    "        \n",
    "    Corr = (EXY - EX*EY) / ((X_d.var())**0.5 * (Y_d.var())**0.5)\n",
    "    return f'EX = {(EX)}\\nVar_Y = {(Var_Y)}\\nCorr = {(Corr)}\\n------\\nEY = {(EY)}\\nSigma_X = {(Var_X**0.5)}\\nCov_XY = {(CovXY)}'"
   ]
  },
  {
   "attachments": {
    "image.png": {
     "image/png": "[encoded data removed]"
    }
   },
   "cell_type": "markdown",
   "id": "a61437f2",
   "metadata": {},
   "source": [
    "![image.png](attachment:image.png)"
   ]
  },
  {
   "cell_type": "code",
   "execution_count": 2,
   "id": "c42ecb8f",
   "metadata": {},
   "outputs": [],
   "source": [
    "from sympy import *\n",
    "import numpy as np\n",
    "from scipy.stats import *\n",
    "from math import tanh, atanh # гиперболический тангенс\n",
    "import scipy.optimize as opt\n",
    "import re\n",
    "from functools import reduce\n",
    "from scipy.optimize import fsolve\n",
    "\n",
    "def correct(data):\n",
    "    mask = re.sub(r'[,]', '.', data).split('; ')\n",
    "    sample = np.array(list(map(float, mask)))\n",
    "    return sample"
   ]
  },
  {
   "cell_type": "code",
   "execution_count": 4,
   "id": "b799303c",
   "metadata": {},
   "outputs": [],
   "source": [
    "def Z_test_one_sample(data, alpha, sigma, mu0):\n",
    "    mn = np.mean(data) # выборочное среднее\n",
    "    Z_st = (mn - mu0)/sigma*len(data)**0.5\n",
    "    cvalue = norm.isf(alpha/2) # |Z_st| > Z_alpha/2 - промежуток (-oo,-cvalue)U(cvalue, +oo)\n",
    "    pvalue = 2*(1 - norm.cdf(abs(Z_st))) # pv = 0.5 - Ф0 = 0.5 - (cdf(x) - 0.5) = 1 - cdf(x)\n",
    "    return f'Z-статистика: {Z_st}, Крит.об: {cvalue}, pvalue: {pvalue}'\n",
    "\n",
    "def betta(data, alpha, sigma, mu0, mu1):\n",
    "    n = len(data)\n",
    "    betta = norm.cdf(norm.isf(alpha/2) - n**.5*(mu1 - mu0)/sigma) - 0.5 + \\\n",
    "    norm.cdf(norm.isf(alpha/2) + n**.5*(mu1 - mu0)/sigma) - 0.5\n",
    "    W = 1 - betta\n",
    "    return betta, W"
   ]
  },
  {
   "cell_type": "code",
   "execution_count": 5,
   "id": "4f4b3caf",
   "metadata": {},
   "outputs": [],
   "source": [
    "def T_test_one_sample(data, alpha, mu0):\n",
    "    S = np.var(data, ddof=True)\n",
    "    mn = np.mean(data)\n",
    "    n = len(data)\n",
    "    T = t(n-1)\n",
    "    T_st = n**.5*(mn - mu0)/S**.5\n",
    "    cvalue = T.isf(alpha/2)\n",
    "    pvalue = 2*(1 - T.cdf(abs(T_st)))\n",
    "    return f'T-статистика: {T_st}, Крит.об: {cvalue}, pvalue: {pvalue}'\n",
    "\n",
    "def betta_nct(data, alpha, mu0, mu1):\n",
    "    S = np.var(data, ddof=True)\n",
    "    #mn = np.mean(data)\n",
    "    n = len(data)\n",
    "    T = t(n-1)\n",
    "    delta = n**.5*(mu1 - mu0)/S**.5\n",
    "    G = nct(n-1, delta)\n",
    "    betta =  G.cdf(T.isf(alpha/2)) - G.cdf(-T.isf(alpha/2))\n",
    "    W = 1 - betta\n",
    "    return f'МОЩНОСТЬ КРИТЕРИЯ: {W}'"
   ]
  },
  {
   "cell_type": "code",
   "execution_count": 6,
   "id": "2fdd01ee",
   "metadata": {},
   "outputs": [],
   "source": [
    "def chi_test_one_sample(data,alpha, mu, sgm0, sgm1):\n",
    "    n = len(data)\n",
    "    S = 1/n*sum((data[i] - mu)**2 for i in range(n))\n",
    "    chi_st = n*S/sgm0**2\n",
    "    chi = chi2(n)\n",
    "    A = chi.isf(1-alpha/2)\n",
    "    B = chi.isf(alpha/2)\n",
    "    \n",
    "    p1 = chi.cdf(chi_st)\n",
    "    p2 = chi.sf(chi_st)\n",
    "    pvalue = 2*min(p1, p2)\n",
    "    \n",
    "    betta = chi.cdf(sgm0**2/sgm1**2*chi.isf(alpha/2)) - chi.cdf(sgm0**2/sgm1**2*chi.isf(1 - alpha/2))\n",
    "    return f'статистика: {chi_st}, А: {A}, В: {B}, pvalue: {pvalue}, БЕТТА: {betta}'"
   ]
  },
  {
   "cell_type": "code",
   "execution_count": 7,
   "id": "97c8543d",
   "metadata": {},
   "outputs": [],
   "source": [
    "def chi_test_one_sample_unknown_mean(data,alpha, sgm0, sgm1):\n",
    "    n = len(data)\n",
    "    mu = data.mean()\n",
    "    S = 1/(n-1)*sum((data[i] - mu)**2 for i in range(n))\n",
    "    chi_st = (n-1)*S/sgm0**2\n",
    "    chi = chi2(n-1)\n",
    "    A = chi.isf(1-alpha/2)\n",
    "    B = chi.isf(alpha/2)\n",
    "    \n",
    "    p1 = chi.cdf(chi_st)\n",
    "    p2 = chi.sf(chi_st)\n",
    "    pvalue = 2*min(p1, p2)\n",
    "    \n",
    "    betta = chi.cdf(sgm0**2/sgm1**2*chi.isf(alpha/2)) - chi.cdf(sgm0**2/sgm1**2*chi.isf(1 - alpha/2))\n",
    "    return f'статистика: {chi_st}, А: {A}, В: {B}, pvalue: {pvalue}, BETTA: {betta}'"
   ]
  },
  {
   "cell_type": "code",
   "execution_count": 8,
   "id": "405017e5",
   "metadata": {},
   "outputs": [],
   "source": [
    "def Z_test_two_sample(xvec, yvec,alpha, sgmx, sgmy, delta):\n",
    "    '''ПРОВЕРЬ КРИТ ОБЛАСТЬ'''\n",
    "    n = len(xvec)\n",
    "    m = len(yvec)\n",
    "    Z_st = (np.mean(xvec) - np.mean(yvec))/(sgmx**2/n + sgmy**2/m)**0.5\n",
    "    \n",
    "    cvalue = norm.isf(alpha)\n",
    "    \n",
    "    pvalue = norm.sf(Z_st)\n",
    "    \n",
    "    betta =  norm.cdf(norm.isf(alpha) - (n*m)**.5/(m*sgmx**2+n*sgmy**2)**.5 * delta)\n",
    "    W = 1 - betta\n",
    "    \n",
    "    print(f'Статистика Z: {Z_st}\\n P-value: {pvalue}\\n c-value: {cvalue}\\n W!!!: {W}')"
   ]
  },
  {
   "cell_type": "code",
   "execution_count": 10,
   "id": "019f4376",
   "metadata": {},
   "outputs": [],
   "source": [
    "def T_test_two_sample(data):\n",
    "    \"\"\"дисперсии неизвестны, но равны\"\"\"\n",
    "    \"\"\"двусторонняя область\"\"\"\n",
    "    xvec = np.array(data[0].loc[pd.notnull(data[0])])\n",
    "    yvec = np.array(data[1].loc[pd.notnull(data[1])])\n",
    "    n = len(xvec)\n",
    "    m = len(yvec)\n",
    "    xm, ym = xvec.mean(), yvec.mean()\n",
    "    Sx, Sy = np.var(xvec, ddof=True), np.var(yvec, ddof=True) # они уже в квадрате\n",
    "    S2 = (n-1)*Sx/(n+m-2) + (m-1)*Sy/(n+m-2) \n",
    "     \n",
    "    T_st = (xm - ym)/(S2**.5*(1/n + 1/m)**.5)\n",
    "    T = t(n+m-2)\n",
    "    pv = 2*(1 - t.cdf(abs(T_st), n+m-2))\n",
    "    #pv2 = 2*min(T.sf(T_st), T.cdf(T_st))\n",
    "    return T_st, pv"
   ]
  },
  {
   "cell_type": "code",
   "execution_count": 11,
   "id": "0ad7bd27",
   "metadata": {},
   "outputs": [],
   "source": [
    "def welch_test(data):\n",
    "    xvec = np.array(data[0].loc[pd.notnull(data[0])])\n",
    "    yvec = np.array(data[1].loc[pd.notnull(data[1])])\n",
    "    n = len(xvec)\n",
    "    m = len(yvec)\n",
    "    xm, ym = xvec.mean(), yvec.mean()\n",
    "    Sx, Sy = np.var(xvec, ddof=True), np.var(yvec, ddof=True)\n",
    "    \n",
    "    T_w = (xm - ym)/(Sx/n + Sy/m)**.5\n",
    "    f = (Sx/n + Sy/m)**2/(Sx**2/(n**2*(n-1)) + Sy**2/(m**2*(m-1)))\n",
    "    T = t(f)\n",
    "    pv = 2*min(T.cdf(T_w), T.sf(T_w))\n",
    "    return T_w, pv"
   ]
  },
  {
   "cell_type": "code",
   "execution_count": 12,
   "id": "d72abc2a",
   "metadata": {},
   "outputs": [],
   "source": [
    "# H0: varx = vary\n",
    "# H1: varx != vary\n",
    "def F_test_two_sample(data, alpha):\n",
    "    xvec = np.array(data[0].loc[pd.notnull(data[0])])\n",
    "    yvec = np.array(data[1].loc[pd.notnull(data[1])])\n",
    "    n = len(xvec)\n",
    "    m = len(yvec)\n",
    "    Sx, Sy = np.var(xvec, ddof=True), np.var(yvec, ddof=True)\n",
    "    \n",
    "    F_st = Sx/Sy\n",
    "    F = f(n-1, m-1)\n",
    "    cv1 = F.isf(1-alpha/2)\n",
    "    cv2 = F.isf(alpha/2)\n",
    "    pv = 2*min(F.cdf(F_st), F.sf(F_st))\n",
    "    \n",
    "    return F_st, cv1,cv2, pv"
   ]
  },
  {
   "cell_type": "code",
   "execution_count": 9,
   "id": "7017fb12",
   "metadata": {},
   "outputs": [],
   "source": [
    "from scipy.stats import f\n",
    "def F_test_three_sample(A, B, C):\n",
    "    n1 = len(A)\n",
    "    n2 = len(B)\n",
    "    n3 = len(C)\n",
    "    n = n1+n2+n3\n",
    "    k = 3\n",
    "    \n",
    "    amean = A.mean()\n",
    "    bmean = B.mean()\n",
    "    cmean = C.mean()\n",
    "\n",
    "    Sa = np.var(A, ddof=True)\n",
    "    Sb = np.var(B, ddof=True)\n",
    "    Sc = np.var(C, ddof=True)\n",
    "\n",
    "    avar = np.var(A)\n",
    "    bvar = np.var(B)\n",
    "    cvar = np.var(C)\n",
    "\n",
    "    Xm = 1/(n1+n2+n3)*(sum(A)+sum(B)+sum(C))\n",
    "    Var = 1/(n1+n2+n3)*(sum((A-amean)**2) + sum((B-bmean)**2) + sum((C-cmean)**2)) # средняя выб.дисперсия\n",
    "    Var2 = 1/n*(avar*n1+bvar*n2+cvar*n3)\n",
    "    \n",
    "    SSE = n*Var # внутригрупповая сумма квадратов (=n*(ср.выб.дисп.))\n",
    "    MSE = SSE/(n-k) # остаточная дисперсия\n",
    "    delt = 1/n*((amean - Xm)**2*n1 + (bmean - Xm)**2*n2 + (cmean - Xm)**2*n3)\n",
    "    SSTR = n*delt\n",
    "    MSTR = SSTR/(k-1)\n",
    "    \n",
    "    F_st = MSTR/MSE\n",
    "    \n",
    "    F = f(k-1, n-k)\n",
    "    pvalue = F.sf(F_st)\n",
    "    \n",
    "    print(f'Межгрупповая дисперсия: {delt}\\n Средняя групповая дисперсия: {Var}\\n Статистика F: {F_st}\\n p-value: {pvalue}, {Var2}')"
   ]
  },
  {
   "cell_type": "code",
   "execution_count": 13,
   "id": "1ce4bf15",
   "metadata": {},
   "outputs": [],
   "source": [
    "def correlation(xvec, yvec, N, gamma):\n",
    "    alpha = 1 - gamma\n",
    "    po = np.corrcoef(xvec, yvec)[1][0]\n",
    "    teta1 = tanh(0.5*ln((1+po)/(1-po)) - norm.isf(alpha/2)/((N-3)**0.5))\n",
    "    teta2 = tanh(0.5*ln((1+po)/(1-po)) + norm.isf(alpha/2)/((N-3)**0.5))\n",
    "    return po, teta2"
   ]
  },
  {
   "cell_type": "code",
   "execution_count": null,
   "id": "4e0b74bd",
   "metadata": {},
   "outputs": [],
   "source": [
    "def func(n):\n",
    "    d = dict(zip(range(101), n))\n",
    "    lst = []\n",
    "    for k, v in d.items():\n",
    "        lst.append([k/100] * v)\n",
    "        sample = np.array(reduce(lambda x, y: x + y, lst))\n",
    "        \n",
    "    N = len(sample)\n",
    "    a, b = 1, 1\n",
    "    mx = N*np.log(a*b) + (a-1)*np.sum(np.log(sample)) + (b-1)*np.sum(np.log(1-np.power(sample, a)))\n",
    "    for a in range(1, 21):\n",
    "        for b in range(1, 21):\n",
    "            logL = N*np.log(a*b) + (a-1)*np.sum(np.log(sample)) + (b-1)*np.sum(np.log(1-np.power(sample, a)))\n",
    "            if mx < logL:\n",
    "                mx = logL\n",
    "                ah = a\n",
    "                bh = b\n",
    "    \n",
    "    x = Symbol('x')\n",
    "    f = ah*bh*x**(ah - 1)*(1 - x**ah)**(bh - 1)\n",
    "    EX = integrate(f*x, (x, 0, 1))\n",
    "    \n",
    "    return f'A: {ah}, B: {bh}, EX:  {round(EX, 6)}'\n",
    "\n",
    "\n",
    "#ah = \n",
    "#bh = \n",
    "x = Symbol('x')\n",
    "f = ah*bh*x**(ah - 1)*(1 - x**ah)**(bh - 1) # НЕ ЗАБУДЬ МИНУС -0.2\n",
    "print(integrate(f, x))\n",
    "# def Func:\n",
    "#    return \n",
    "\n",
    "fsolve(Func, [0.8])"
   ]
  }
 ],
 "metadata": {
  "kernelspec": {
   "display_name": "Python 3 (ipykernel)",
   "language": "python",
   "name": "python3"
  },
  "language_info": {
   "codemirror_mode": {
    "name": "ipython",
    "version": 3
   },
   "file_extension": ".py",
   "mimetype": "text/x-python",
   "name": "python",
   "nbconvert_exporter": "python",
   "pygments_lexer": "ipython3",
   "version": "3.9.12"
  }
 },
 "nbformat": 4,
 "nbformat_minor": 5
}
